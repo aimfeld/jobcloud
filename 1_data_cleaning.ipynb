{
 "cells": [
  {
   "cell_type": "markdown",
   "metadata": {
    "colab_type": "text",
    "id": "ngqKdO0L4NaC"
   },
   "source": [
    "# Jobcloud data cleaning"
   ]
  },
  {
   "cell_type": "code",
   "execution_count": 1,
   "metadata": {
    "colab": {},
    "colab_type": "code",
    "id": "tEYelMHO4NaE"
   },
   "outputs": [],
   "source": [
    "import pandas as pd\n",
    "\n",
    "pd.set_option('display.max_rows', 500)\n",
    "pd.set_option('display.max_colwidth', 200)"
   ]
  },
  {
   "cell_type": "code",
   "execution_count": 2,
   "metadata": {
    "colab": {},
    "colab_type": "code",
    "id": "7aphCLmu4NaI",
    "outputId": "695536a2-4edb-49f5-e411-c78d12a4e890"
   },
   "outputs": [
    {
     "data": {
      "text/html": [
       "<div>\n",
       "<style scoped>\n",
       "    .dataframe tbody tr th:only-of-type {\n",
       "        vertical-align: middle;\n",
       "    }\n",
       "\n",
       "    .dataframe tbody tr th {\n",
       "        vertical-align: top;\n",
       "    }\n",
       "\n",
       "    .dataframe thead th {\n",
       "        text-align: right;\n",
       "    }\n",
       "</style>\n",
       "<table border=\"1\" class=\"dataframe\">\n",
       "  <thead>\n",
       "    <tr style=\"text-align: right;\">\n",
       "      <th></th>\n",
       "      <th>id</th>\n",
       "      <th>start_dt</th>\n",
       "      <th>end_dt</th>\n",
       "      <th>1d_view_cnt</th>\n",
       "      <th>10d_view_cnt</th>\n",
       "      <th>30d_view_cnt</th>\n",
       "      <th>package_id</th>\n",
       "      <th>industry_name</th>\n",
       "      <th>job_location</th>\n",
       "      <th>job_postal_code</th>\n",
       "      <th>contract_pct_from</th>\n",
       "      <th>contract_pct_to</th>\n",
       "      <th>title</th>\n",
       "    </tr>\n",
       "  </thead>\n",
       "  <tbody>\n",
       "    <tr>\n",
       "      <th>0</th>\n",
       "      <td>8501672</td>\n",
       "      <td>2018-10-25</td>\n",
       "      <td>2018-11-26</td>\n",
       "      <td>0.2372</td>\n",
       "      <td>0.4565</td>\n",
       "      <td>0.7327</td>\n",
       "      <td>B</td>\n",
       "      <td>Industrie diverse</td>\n",
       "      <td>Espace Mittelland</td>\n",
       "      <td>NaN</td>\n",
       "      <td>100.0</td>\n",
       "      <td>100.0</td>\n",
       "      <td>Softwarearchitekt / Projektmanager (m/w) - All-in-One Datenmanagement in Design, Produktion und Qual</td>\n",
       "    </tr>\n",
       "    <tr>\n",
       "      <th>1</th>\n",
       "      <td>8501682</td>\n",
       "      <td>2018-10-25</td>\n",
       "      <td>2018-11-26</td>\n",
       "      <td>0.2883</td>\n",
       "      <td>0.5826</td>\n",
       "      <td>1.0991</td>\n",
       "      <td>B</td>\n",
       "      <td>Maschinen-/Anlagenbau</td>\n",
       "      <td>Region Biel</td>\n",
       "      <td>NaN</td>\n",
       "      <td>100.0</td>\n",
       "      <td>100.0</td>\n",
       "      <td>Prozessingenieur Lasertechnologie - Industrialisierung innovativer Fertigungstechnologien</td>\n",
       "    </tr>\n",
       "    <tr>\n",
       "      <th>2</th>\n",
       "      <td>8570830</td>\n",
       "      <td>2018-11-26</td>\n",
       "      <td>2018-12-28</td>\n",
       "      <td>0.1982</td>\n",
       "      <td>0.8468</td>\n",
       "      <td>1.1532</td>\n",
       "      <td>B</td>\n",
       "      <td>Industrie diverse</td>\n",
       "      <td>Espace Mittelland</td>\n",
       "      <td>NaN</td>\n",
       "      <td>100.0</td>\n",
       "      <td>100.0</td>\n",
       "      <td>Softwarearchitekt / Projektmanager (m/w) - All-in-One Datenmanagement in Design, Produktion und Qual</td>\n",
       "    </tr>\n",
       "    <tr>\n",
       "      <th>3</th>\n",
       "      <td>8649301</td>\n",
       "      <td>2019-01-08</td>\n",
       "      <td>2019-02-08</td>\n",
       "      <td>0.2883</td>\n",
       "      <td>0.7177</td>\n",
       "      <td>1.4835</td>\n",
       "      <td>B</td>\n",
       "      <td>Maschinen-/Anlagenbau</td>\n",
       "      <td>Espace Mittelland</td>\n",
       "      <td>NaN</td>\n",
       "      <td>100.0</td>\n",
       "      <td>100.0</td>\n",
       "      <td>Projektleiter (m/w) - Werkzeug- oder Maschinenbau</td>\n",
       "    </tr>\n",
       "    <tr>\n",
       "      <th>4</th>\n",
       "      <td>8730602</td>\n",
       "      <td>2019-02-12</td>\n",
       "      <td>2019-02-21</td>\n",
       "      <td>0.3574</td>\n",
       "      <td>0.7297</td>\n",
       "      <td>0.7297</td>\n",
       "      <td>B</td>\n",
       "      <td>Industrie diverse</td>\n",
       "      <td>Region Biel</td>\n",
       "      <td>NaN</td>\n",
       "      <td>100.0</td>\n",
       "      <td>100.0</td>\n",
       "      <td>Fachverantwortlichen Metrologie - Produkteentwicklung und -validierung</td>\n",
       "    </tr>\n",
       "  </tbody>\n",
       "</table>\n",
       "</div>"
      ],
      "text/plain": [
       "        id   start_dt     end_dt  1d_view_cnt  10d_view_cnt  30d_view_cnt  \\\n",
       "0  8501672 2018-10-25 2018-11-26       0.2372        0.4565        0.7327   \n",
       "1  8501682 2018-10-25 2018-11-26       0.2883        0.5826        1.0991   \n",
       "2  8570830 2018-11-26 2018-12-28       0.1982        0.8468        1.1532   \n",
       "3  8649301 2019-01-08 2019-02-08       0.2883        0.7177        1.4835   \n",
       "4  8730602 2019-02-12 2019-02-21       0.3574        0.7297        0.7297   \n",
       "\n",
       "  package_id          industry_name       job_location job_postal_code  \\\n",
       "0          B      Industrie diverse  Espace Mittelland             NaN   \n",
       "1          B  Maschinen-/Anlagenbau        Region Biel             NaN   \n",
       "2          B      Industrie diverse  Espace Mittelland             NaN   \n",
       "3          B  Maschinen-/Anlagenbau  Espace Mittelland             NaN   \n",
       "4          B      Industrie diverse        Region Biel             NaN   \n",
       "\n",
       "   contract_pct_from  contract_pct_to  \\\n",
       "0              100.0            100.0   \n",
       "1              100.0            100.0   \n",
       "2              100.0            100.0   \n",
       "3              100.0            100.0   \n",
       "4              100.0            100.0   \n",
       "\n",
       "                                                                                                  title  \n",
       "0  Softwarearchitekt / Projektmanager (m/w) - All-in-One Datenmanagement in Design, Produktion und Qual  \n",
       "1             Prozessingenieur Lasertechnologie - Industrialisierung innovativer Fertigungstechnologien  \n",
       "2  Softwarearchitekt / Projektmanager (m/w) - All-in-One Datenmanagement in Design, Produktion und Qual  \n",
       "3                                                     Projektleiter (m/w) - Werkzeug- oder Maschinenbau  \n",
       "4                                Fachverantwortlichen Metrologie - Produkteentwicklung und -validierung  "
      ]
     },
     "execution_count": 2,
     "metadata": {},
     "output_type": "execute_result"
    }
   ],
   "source": [
    "df = pd.read_csv('Data/jobcloud_propulsion_dataset.csv', sep=';', parse_dates=['start_dt', 'end_dt'])\n",
    "df.head()"
   ]
  },
  {
   "cell_type": "markdown",
   "metadata": {
    "colab_type": "text",
    "id": "btFZ5WBV4Nac"
   },
   "source": [
    "## Drop rows with missing values"
   ]
  },
  {
   "cell_type": "code",
   "execution_count": 3,
   "metadata": {
    "colab": {},
    "colab_type": "code",
    "id": "QLqWMorv4Nad",
    "outputId": "48a4edc6-e260-4898-e230-9bda83f703b9"
   },
   "outputs": [
    {
     "name": "stdout",
     "output_type": "stream",
     "text": [
      "<class 'pandas.core.frame.DataFrame'>\n",
      "Int64Index: 101735 entries, 0 to 103117\n",
      "Data columns (total 13 columns):\n",
      "id                   101735 non-null int64\n",
      "start_dt             101735 non-null datetime64[ns]\n",
      "end_dt               101735 non-null datetime64[ns]\n",
      "1d_view_cnt          101735 non-null float64\n",
      "10d_view_cnt         101735 non-null float64\n",
      "30d_view_cnt         101735 non-null float64\n",
      "package_id           101735 non-null object\n",
      "industry_name        101735 non-null object\n",
      "job_location         101735 non-null object\n",
      "job_postal_code      52156 non-null object\n",
      "contract_pct_from    101735 non-null float64\n",
      "contract_pct_to      101735 non-null float64\n",
      "title                101735 non-null object\n",
      "dtypes: datetime64[ns](2), float64(5), int64(1), object(5)\n",
      "memory usage: 10.9+ MB\n"
     ]
    }
   ],
   "source": [
    "# Drop rows with nan\n",
    "df = df.dropna(subset=['1d_view_cnt', '10d_view_cnt', '30d_view_cnt', 'industry_name', 'job_location'])\n",
    "df.info()"
   ]
  },
  {
   "cell_type": "markdown",
   "metadata": {},
   "source": [
    "## Remove html tags and replace html entities by unicode"
   ]
  },
  {
   "cell_type": "code",
   "execution_count": 4,
   "metadata": {
    "colab": {},
    "colab_type": "code",
    "id": "_89zB3Zl4Naj"
   },
   "outputs": [],
   "source": [
    "# Strip html tags, see https://stackoverflow.com/a/4869782/94289\n",
    "import re\n",
    "\n",
    "df['title'] = df['title'].str.replace('<[^<]+?>', ' ') # Replace html tags by blank \n",
    "# df[df['title'].str.contains('<br/>')]"
   ]
  },
  {
   "cell_type": "code",
   "execution_count": 5,
   "metadata": {
    "colab": {},
    "colab_type": "code",
    "id": "22FVrrbn4Nam",
    "outputId": "28a01752-70c2-4168-cb8a-51f7991ea0e5"
   },
   "outputs": [
    {
     "data": {
      "text/plain": [
       "'M&A Spezialist (m/w), 100%'"
      ]
     },
     "execution_count": 5,
     "metadata": {},
     "output_type": "execute_result"
    }
   ],
   "source": [
    "import html\n",
    "# Replace html entities by unicode characters, e.g. &amp; => &\n",
    "df['title'] = df['title'].apply(html.unescape)\n",
    "df['industry_name'] = df['industry_name'].apply(html.unescape)\n",
    "df.loc[40, 'title']"
   ]
  },
  {
   "cell_type": "markdown",
   "metadata": {},
   "source": [
    "## Clean titles\n",
    "Regex online parser: https://regex101.com/"
   ]
  },
  {
   "cell_type": "code",
   "execution_count": 6,
   "metadata": {},
   "outputs": [
    {
     "data": {
      "text/html": [
       "<div>\n",
       "<style scoped>\n",
       "    .dataframe tbody tr th:only-of-type {\n",
       "        vertical-align: middle;\n",
       "    }\n",
       "\n",
       "    .dataframe tbody tr th {\n",
       "        vertical-align: top;\n",
       "    }\n",
       "\n",
       "    .dataframe thead th {\n",
       "        text-align: right;\n",
       "    }\n",
       "</style>\n",
       "<table border=\"1\" class=\"dataframe\">\n",
       "  <thead>\n",
       "    <tr style=\"text-align: right;\">\n",
       "      <th></th>\n",
       "      <th>title</th>\n",
       "      <th>title_clean</th>\n",
       "    </tr>\n",
       "  </thead>\n",
       "  <tbody>\n",
       "    <tr>\n",
       "      <th>0</th>\n",
       "      <td>Softwarearchitekt / Projektmanager (m/w) - All-in-One Datenmanagement in Design, Produktion und Qual</td>\n",
       "      <td>softwarearchitekt projektmanager all one datenmanagement design produktion und qual</td>\n",
       "    </tr>\n",
       "    <tr>\n",
       "      <th>1</th>\n",
       "      <td>Prozessingenieur Lasertechnologie - Industrialisierung innovativer Fertigungstechnologien</td>\n",
       "      <td>prozessingenieur lasertechnologie industrialisierung innovativer fertigungstechnologien</td>\n",
       "    </tr>\n",
       "    <tr>\n",
       "      <th>2</th>\n",
       "      <td>Softwarearchitekt / Projektmanager (m/w) - All-in-One Datenmanagement in Design, Produktion und Qual</td>\n",
       "      <td>softwarearchitekt projektmanager all one datenmanagement design produktion und qual</td>\n",
       "    </tr>\n",
       "    <tr>\n",
       "      <th>3</th>\n",
       "      <td>Projektleiter (m/w) - Werkzeug- oder Maschinenbau</td>\n",
       "      <td>projektleiter werkzeug oder maschinenbau</td>\n",
       "    </tr>\n",
       "    <tr>\n",
       "      <th>4</th>\n",
       "      <td>Fachverantwortlichen Metrologie - Produkteentwicklung und -validierung</td>\n",
       "      <td>fachverantwortlichen metrologie produkteentwicklung und validierung</td>\n",
       "    </tr>\n",
       "  </tbody>\n",
       "</table>\n",
       "</div>"
      ],
      "text/plain": [
       "                                                                                                  title  \\\n",
       "0  Softwarearchitekt / Projektmanager (m/w) - All-in-One Datenmanagement in Design, Produktion und Qual   \n",
       "1             Prozessingenieur Lasertechnologie - Industrialisierung innovativer Fertigungstechnologien   \n",
       "2  Softwarearchitekt / Projektmanager (m/w) - All-in-One Datenmanagement in Design, Produktion und Qual   \n",
       "3                                                     Projektleiter (m/w) - Werkzeug- oder Maschinenbau   \n",
       "4                                Fachverantwortlichen Metrologie - Produkteentwicklung und -validierung   \n",
       "\n",
       "                                                                               title_clean  \n",
       "0      softwarearchitekt projektmanager all one datenmanagement design produktion und qual  \n",
       "1  prozessingenieur lasertechnologie industrialisierung innovativer fertigungstechnologien  \n",
       "2      softwarearchitekt projektmanager all one datenmanagement design produktion und qual  \n",
       "3                                                 projektleiter werkzeug oder maschinenbau  \n",
       "4                      fachverantwortlichen metrologie produkteentwicklung und validierung  "
      ]
     },
     "execution_count": 6,
     "metadata": {},
     "output_type": "execute_result"
    }
   ],
   "source": [
    "df['title_clean'] = df['title']\n",
    "\n",
    "# Remove appended female form, e.g. FilialleiterIn => Filialleiter\n",
    "df['title_clean'] = df['title_clean'].str.replace(r'\\BIn\\b', '')\n",
    "\n",
    "# Convert all to lowercase\n",
    "df['title_clean'] = df['title_clean'].str.lower()\n",
    "\n",
    "\n",
    "# Match a single character not present in the list below [^\\w&]\n",
    "#  - \\w match any word character in any script (equal to [\\p{L}\\p{N}_])\n",
    "#  - & matches the character & literally (case sensitive)\n",
    "df['title_clean'] = df['title_clean'].str.replace(r'[^\\w&]', ' ')\n",
    "\n",
    "# Remove numbers\n",
    "df['title_clean'] = df['title_clean'].str.replace(r'[0-9]', '') \n",
    "\n",
    "# Remove specific words\n",
    "df['title_clean'] = df['title_clean'].str.replace(r'(\\bm\\b|\\bw\\b|\\bf\\b|\\br\\b|\\bin\\b|\\binnen\\b|\\bmw\\b|\\bdach\\b|\\bd\\b|\\be\\b|\\bi\\b)', '')\n",
    "# Special case M&A Spezialist: m is removed so &a is replaced by m&a\n",
    "df['title_clean'] = df['title_clean'].str.replace(r'&a\\b', 'm&a')\n",
    "\n",
    "# Remove qualifications\n",
    "df['title_clean'] = df['title_clean'].str.replace(r'(\\bdipl\\b|\\bfachausweis\\b|\\babschluss\\b|diplom|phd|msc|\\buni\\b|\\bfh\\b|\\bfh\\b|\\beth\\b|\\btu\\b)', '')\n",
    "\n",
    "# Replace two or more consecutive spaces by only one space\n",
    "df['title_clean'] = df['title_clean'].str.replace(r'[ ]{2,}', ' ')\n",
    "\n",
    "# Remove spaces at the start and end\n",
    "df['title_clean'] = df['title_clean'].str.strip()\n",
    "\n",
    "df.loc[:, ['title', 'title_clean']].head(5)\n"
   ]
  },
  {
   "cell_type": "markdown",
   "metadata": {},
   "source": [
    "## Fix column types"
   ]
  },
  {
   "cell_type": "code",
   "execution_count": 7,
   "metadata": {
    "colab": {},
    "colab_type": "code",
    "id": "faryIqNB4Naq"
   },
   "outputs": [],
   "source": [
    "# Since there are no more missing values, contract_pct float columns can be converted to int\n",
    "df['contract_pct_from'] = df['contract_pct_from'].astype(int)\n",
    "df['contract_pct_to'] = df['contract_pct_to'].astype(int)"
   ]
  },
  {
   "cell_type": "markdown",
   "metadata": {},
   "source": [
    "## Save cleaned data"
   ]
  },
  {
   "cell_type": "code",
   "execution_count": 8,
   "metadata": {
    "colab": {},
    "colab_type": "code",
    "id": "KErnCl2T4Nas"
   },
   "outputs": [],
   "source": [
    "# Save cleaned dataframe in the same format as the raw data, so changes are easily visible in a diff.\n",
    "#import csv\n",
    "#df.to_csv('Data/jobcloud_clean.csv', sep=';',  quoting=csv.QUOTE_NONNUMERIC, index=False, float_format='%.4f')\n",
    "df.to_csv('Data/jobcloud_clean_v2.csv', sep=';', index=False)"
   ]
  },
  {
   "cell_type": "code",
   "execution_count": null,
   "metadata": {},
   "outputs": [],
   "source": []
  }
 ],
 "metadata": {
  "accelerator": "GPU",
  "colab": {
   "collapsed_sections": [
    "gD-UBJw54Na0",
    "PdPz9poc4Na5",
    "Kdsriiu_4Na-",
    "cy4gayiW4NbK",
    "pEj9rOm84NbP",
    "KJMEhj8y4NbT",
    "BFR_ivV14NbY",
    "hR2XmO484Nbc",
    "IWoLjxIo4Nbg",
    "Y8-nPHcR4Nbl",
    "P1ROksez4Nbw",
    "OH19XDlj4Nb0"
   ],
   "name": "eda_adrian.ipynb",
   "provenance": [],
   "toc_visible": true,
   "version": "0.3.2"
  },
  "kernelspec": {
   "display_name": "Python 3",
   "language": "python",
   "name": "python3"
  },
  "language_info": {
   "codemirror_mode": {
    "name": "ipython",
    "version": 3
   },
   "file_extension": ".py",
   "mimetype": "text/x-python",
   "name": "python",
   "nbconvert_exporter": "python",
   "pygments_lexer": "ipython3",
   "version": "3.6.8"
  },
  "toc-autonumbering": true
 },
 "nbformat": 4,
 "nbformat_minor": 2
}
