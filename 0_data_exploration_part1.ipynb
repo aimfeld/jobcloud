{
 "cells": [
  {
   "cell_type": "markdown",
   "metadata": {},
   "source": [
    "# Jobcloud data exploration part 1"
   ]
  },
  {
   "cell_type": "code",
   "execution_count": 1,
   "metadata": {},
   "outputs": [],
   "source": [
    "import pandas as pd\n",
    "import matplotlib.pyplot as plt\n",
    "import numpy as np\n",
    "import sys"
   ]
  },
  {
   "cell_type": "code",
   "execution_count": 2,
   "metadata": {},
   "outputs": [
    {
     "name": "stdout",
     "output_type": "stream",
     "text": [
      "3.6.8 |Anaconda, Inc.| (default, Feb 21 2019, 18:30:04) [MSC v.1916 64 bit (AMD64)]\n",
      "0.24.2\n"
     ]
    }
   ],
   "source": [
    "print(sys.version); print(pd.__version__)"
   ]
  },
  {
   "cell_type": "markdown",
   "metadata": {},
   "source": [
    "### costum functions"
   ]
  },
  {
   "cell_type": "code",
   "execution_count": 3,
   "metadata": {},
   "outputs": [],
   "source": [
    "def value_counts_df(df_input, col_input, sort_col='counts', ascending_input=True):\n",
    "    return df_input[col_input].value_counts().rename_axis(col_input).reset_index(name='counts').sort_values(by=sort_col, ascending=ascending_input)"
   ]
  },
  {
   "cell_type": "markdown",
   "metadata": {},
   "source": [
    "### reading in data"
   ]
  },
  {
   "cell_type": "code",
   "execution_count": 4,
   "metadata": {},
   "outputs": [],
   "source": [
    "df = pd.read_csv('Data/jobcloud_propulsion_dataset.csv', delimiter = ';', parse_dates = ['start_dt', 'end_dt'])"
   ]
  },
  {
   "cell_type": "code",
   "execution_count": 5,
   "metadata": {},
   "outputs": [
    {
     "data": {
      "text/html": [
       "<div>\n",
       "<style scoped>\n",
       "    .dataframe tbody tr th:only-of-type {\n",
       "        vertical-align: middle;\n",
       "    }\n",
       "\n",
       "    .dataframe tbody tr th {\n",
       "        vertical-align: top;\n",
       "    }\n",
       "\n",
       "    .dataframe thead th {\n",
       "        text-align: right;\n",
       "    }\n",
       "</style>\n",
       "<table border=\"1\" class=\"dataframe\">\n",
       "  <thead>\n",
       "    <tr style=\"text-align: right;\">\n",
       "      <th></th>\n",
       "      <th>id</th>\n",
       "      <th>start_dt</th>\n",
       "      <th>end_dt</th>\n",
       "      <th>1d_view_cnt</th>\n",
       "      <th>10d_view_cnt</th>\n",
       "      <th>30d_view_cnt</th>\n",
       "      <th>package_id</th>\n",
       "      <th>industry_name</th>\n",
       "      <th>job_location</th>\n",
       "      <th>job_postal_code</th>\n",
       "      <th>contract_pct_from</th>\n",
       "      <th>contract_pct_to</th>\n",
       "      <th>title</th>\n",
       "    </tr>\n",
       "  </thead>\n",
       "  <tbody>\n",
       "    <tr>\n",
       "      <th>0</th>\n",
       "      <td>8501672</td>\n",
       "      <td>2018-10-25</td>\n",
       "      <td>2018-11-26</td>\n",
       "      <td>0.2372</td>\n",
       "      <td>0.4565</td>\n",
       "      <td>0.7327</td>\n",
       "      <td>B</td>\n",
       "      <td>Industrie diverse</td>\n",
       "      <td>Espace Mittelland</td>\n",
       "      <td>NaN</td>\n",
       "      <td>100.0</td>\n",
       "      <td>100.0</td>\n",
       "      <td>Softwarearchitekt / Projektmanager (m/w) - All...</td>\n",
       "    </tr>\n",
       "    <tr>\n",
       "      <th>1</th>\n",
       "      <td>8501682</td>\n",
       "      <td>2018-10-25</td>\n",
       "      <td>2018-11-26</td>\n",
       "      <td>0.2883</td>\n",
       "      <td>0.5826</td>\n",
       "      <td>1.0991</td>\n",
       "      <td>B</td>\n",
       "      <td>Maschinen-/Anlagenbau</td>\n",
       "      <td>Region Biel</td>\n",
       "      <td>NaN</td>\n",
       "      <td>100.0</td>\n",
       "      <td>100.0</td>\n",
       "      <td>Prozessingenieur Lasertechnologie - Industrial...</td>\n",
       "    </tr>\n",
       "    <tr>\n",
       "      <th>2</th>\n",
       "      <td>8570830</td>\n",
       "      <td>2018-11-26</td>\n",
       "      <td>2018-12-28</td>\n",
       "      <td>0.1982</td>\n",
       "      <td>0.8468</td>\n",
       "      <td>1.1532</td>\n",
       "      <td>B</td>\n",
       "      <td>Industrie diverse</td>\n",
       "      <td>Espace Mittelland</td>\n",
       "      <td>NaN</td>\n",
       "      <td>100.0</td>\n",
       "      <td>100.0</td>\n",
       "      <td>Softwarearchitekt / Projektmanager (m/w) - All...</td>\n",
       "    </tr>\n",
       "    <tr>\n",
       "      <th>3</th>\n",
       "      <td>8649301</td>\n",
       "      <td>2019-01-08</td>\n",
       "      <td>2019-02-08</td>\n",
       "      <td>0.2883</td>\n",
       "      <td>0.7177</td>\n",
       "      <td>1.4835</td>\n",
       "      <td>B</td>\n",
       "      <td>Maschinen-/Anlagenbau</td>\n",
       "      <td>Espace Mittelland</td>\n",
       "      <td>NaN</td>\n",
       "      <td>100.0</td>\n",
       "      <td>100.0</td>\n",
       "      <td>Projektleiter (m/w) - Werkzeug- oder Maschinenbau</td>\n",
       "    </tr>\n",
       "    <tr>\n",
       "      <th>4</th>\n",
       "      <td>8730602</td>\n",
       "      <td>2019-02-12</td>\n",
       "      <td>2019-02-21</td>\n",
       "      <td>0.3574</td>\n",
       "      <td>0.7297</td>\n",
       "      <td>0.7297</td>\n",
       "      <td>B</td>\n",
       "      <td>Industrie diverse</td>\n",
       "      <td>Region Biel</td>\n",
       "      <td>NaN</td>\n",
       "      <td>100.0</td>\n",
       "      <td>100.0</td>\n",
       "      <td>Fachverantwortlichen Metrologie - Produkteentw...</td>\n",
       "    </tr>\n",
       "  </tbody>\n",
       "</table>\n",
       "</div>"
      ],
      "text/plain": [
       "        id   start_dt     end_dt  1d_view_cnt  10d_view_cnt  30d_view_cnt  \\\n",
       "0  8501672 2018-10-25 2018-11-26       0.2372        0.4565        0.7327   \n",
       "1  8501682 2018-10-25 2018-11-26       0.2883        0.5826        1.0991   \n",
       "2  8570830 2018-11-26 2018-12-28       0.1982        0.8468        1.1532   \n",
       "3  8649301 2019-01-08 2019-02-08       0.2883        0.7177        1.4835   \n",
       "4  8730602 2019-02-12 2019-02-21       0.3574        0.7297        0.7297   \n",
       "\n",
       "  package_id          industry_name       job_location job_postal_code  \\\n",
       "0          B      Industrie diverse  Espace Mittelland             NaN   \n",
       "1          B  Maschinen-/Anlagenbau        Region Biel             NaN   \n",
       "2          B      Industrie diverse  Espace Mittelland             NaN   \n",
       "3          B  Maschinen-/Anlagenbau  Espace Mittelland             NaN   \n",
       "4          B      Industrie diverse        Region Biel             NaN   \n",
       "\n",
       "   contract_pct_from  contract_pct_to  \\\n",
       "0              100.0            100.0   \n",
       "1              100.0            100.0   \n",
       "2              100.0            100.0   \n",
       "3              100.0            100.0   \n",
       "4              100.0            100.0   \n",
       "\n",
       "                                               title  \n",
       "0  Softwarearchitekt / Projektmanager (m/w) - All...  \n",
       "1  Prozessingenieur Lasertechnologie - Industrial...  \n",
       "2  Softwarearchitekt / Projektmanager (m/w) - All...  \n",
       "3  Projektleiter (m/w) - Werkzeug- oder Maschinenbau  \n",
       "4  Fachverantwortlichen Metrologie - Produkteentw...  "
      ]
     },
     "execution_count": 5,
     "metadata": {},
     "output_type": "execute_result"
    }
   ],
   "source": [
    "df.head()"
   ]
  },
  {
   "cell_type": "code",
   "execution_count": 6,
   "metadata": {},
   "outputs": [
    {
     "data": {
      "text/plain": [
       "(103123, 13)"
      ]
     },
     "execution_count": 6,
     "metadata": {},
     "output_type": "execute_result"
    }
   ],
   "source": [
    "df.shape"
   ]
  },
  {
   "cell_type": "code",
   "execution_count": 7,
   "metadata": {},
   "outputs": [
    {
     "data": {
      "text/plain": [
       "array(['Sachbearbeitung Controlling / Finanzbuchhaltung 100%',\n",
       "       'Maschinenbau-Ingenieur als PROJEKTLEITER MASCHINEN-/ANLAGENBAU',\n",
       "       'Versicherungs-Spezialist / Assekuranz-Profi als  AGENTUR-LEITER / GEBIETSVERANTWORTLICHER',\n",
       "       'Versicherungs-Profi / Verkaufs-Spezialist als  KUNDENBETREUER / AGENTURBERATER',\n",
       "       'Webshop Koordinator/in 100%',\n",
       "       'Versicherungs-Spezialist / Assekuranz-Profi als SENIOR ACCOUNT / CONSULTING MANAGER',\n",
       "       'Maschinenbau-Ingenieur als PROJEKTLEITER MASCHINEN-/ANLAGENBAU',\n",
       "       'Oeffentlichkeitsarbeit und Kommunikation (60%)',\n",
       "       'Versicherungs-Profi / Verkaufs-Spezialist als  KUNDENBETREUER / AGENTURBERATER',\n",
       "       'Versicherungs-Spezialist / Assekuranz-Profi als  AGENTUR-LEITER / GEBIETSVERANTWORTLICHER',\n",
       "       'Treuhand- / Steuer-Experte / Wirtschaftsprüfer als GESCHÄFTSFÜHRER /TEILHABER (w/m)',\n",
       "       'Oeffentlichkeitsarbeit und Kommunikation (60-80%)',\n",
       "       'Sachbearbeitung Controlling / Finanzbuchhaltung 80 - 100%',\n",
       "       'Sachbearbeitung Controlling / Finanzbuchhaltung 80 - 100%',\n",
       "       'PROJEKTLEITER ANLAGENBAU',\n",
       "       'Sales-Profi / Vertriebs-Allrounder als TECHNISCHER VERKAUFS-SPEZIALIST / ACCOUNT MANAGER',\n",
       "       'Versicherungs-Spezialist / Assekuranz-Profi als  AGENTUR-LEITER / GEBIETSVERANTWORTLICHER',\n",
       "       'Webshop Koordinator/in 100%',\n",
       "       'Werkstoff- / Oberflächen-Spezialist als ENTWICKLUNGS-INGENIEUR TRIBOLOGIE (w/m)',\n",
       "       'Mitarbeiter in der Verwaltung des Dekanats  der Rechtswissenschaftlichen Fakultät (100%)',\n",
       "       'Treuhand- / Steuer-Experte / Wirtschaftsprüfer als GESCHÄFTSFÜHRER /TEILHABER (w/m)',\n",
       "       'Versicherungs-Spezialist / Assekuranz-Profi als SENIOR ACCOUNT / CONSULTING MANAGER',\n",
       "       'Webshop Koordinator/in 100%',\n",
       "       'Versicherungs-Profi / Verkaufs-Spezialist als  KUNDENBETREUER / AGENTURBERATER',\n",
       "       'Gastronomie / Hotellerie - Spezialist als  INSPEKTORATS-ASSISTENT DES GASTGEWERBES \"BS / AG / SO\"',\n",
       "       'Oeffentlichkeitsarbeit und Kommunikation (60-80%)',\n",
       "       'Elektro-Fachmann als BETRIEBS-ELEKTRIKER 100% (w/m)',\n",
       "       'Abteilungsleiter SOFTWARE / Maschinensteuerung',\n",
       "       'Mitarbeiter in der Verwaltung des Dekanats  der Rechtswissenschaftlichen Fakultät (100%)',\n",
       "       'ENTWICKLUNGS-INGENIEUR / KONSTRUKTEUR MASCHINEN- / ANLAGENBAU (w/m)'],\n",
       "      dtype=object)"
      ]
     },
     "execution_count": 7,
     "metadata": {},
     "output_type": "execute_result"
    }
   ],
   "source": [
    "df['title'].values[550:580]"
   ]
  },
  {
   "cell_type": "code",
   "execution_count": 8,
   "metadata": {},
   "outputs": [
    {
     "name": "stdout",
     "output_type": "stream",
     "text": [
      "<class 'pandas.core.frame.DataFrame'>\n",
      "RangeIndex: 103123 entries, 0 to 103122\n",
      "Data columns (total 13 columns):\n",
      "id                   103123 non-null int64\n",
      "start_dt             103123 non-null datetime64[ns]\n",
      "end_dt               103123 non-null datetime64[ns]\n",
      "1d_view_cnt          102978 non-null float64\n",
      "10d_view_cnt         102978 non-null float64\n",
      "30d_view_cnt         102978 non-null float64\n",
      "package_id           103123 non-null object\n",
      "industry_name        101882 non-null object\n",
      "job_location         103103 non-null object\n",
      "job_postal_code      52812 non-null object\n",
      "contract_pct_from    102322 non-null float64\n",
      "contract_pct_to      102322 non-null float64\n",
      "title                103123 non-null object\n",
      "dtypes: datetime64[ns](2), float64(5), int64(1), object(5)\n",
      "memory usage: 10.2+ MB\n"
     ]
    }
   ],
   "source": [
    "df.info()"
   ]
  },
  {
   "cell_type": "code",
   "execution_count": 9,
   "metadata": {},
   "outputs": [
    {
     "data": {
      "text/html": [
       "<div>\n",
       "<style scoped>\n",
       "    .dataframe tbody tr th:only-of-type {\n",
       "        vertical-align: middle;\n",
       "    }\n",
       "\n",
       "    .dataframe tbody tr th {\n",
       "        vertical-align: top;\n",
       "    }\n",
       "\n",
       "    .dataframe thead th {\n",
       "        text-align: right;\n",
       "    }\n",
       "</style>\n",
       "<table border=\"1\" class=\"dataframe\">\n",
       "  <thead>\n",
       "    <tr style=\"text-align: right;\">\n",
       "      <th></th>\n",
       "      <th>id</th>\n",
       "      <th>1d_view_cnt</th>\n",
       "      <th>10d_view_cnt</th>\n",
       "      <th>30d_view_cnt</th>\n",
       "      <th>contract_pct_from</th>\n",
       "      <th>contract_pct_to</th>\n",
       "    </tr>\n",
       "  </thead>\n",
       "  <tbody>\n",
       "    <tr>\n",
       "      <th>count</th>\n",
       "      <td>1.031230e+05</td>\n",
       "      <td>102978.000000</td>\n",
       "      <td>102978.000000</td>\n",
       "      <td>102978.000000</td>\n",
       "      <td>102322.000000</td>\n",
       "      <td>102322.000000</td>\n",
       "    </tr>\n",
       "    <tr>\n",
       "      <th>mean</th>\n",
       "      <td>8.418143e+06</td>\n",
       "      <td>0.284620</td>\n",
       "      <td>0.647438</td>\n",
       "      <td>0.997292</td>\n",
       "      <td>90.635034</td>\n",
       "      <td>96.459872</td>\n",
       "    </tr>\n",
       "    <tr>\n",
       "      <th>std</th>\n",
       "      <td>2.029115e+05</td>\n",
       "      <td>0.303066</td>\n",
       "      <td>0.656563</td>\n",
       "      <td>1.096760</td>\n",
       "      <td>18.170531</td>\n",
       "      <td>12.184531</td>\n",
       "    </tr>\n",
       "    <tr>\n",
       "      <th>min</th>\n",
       "      <td>4.140807e+06</td>\n",
       "      <td>0.000000</td>\n",
       "      <td>0.000000</td>\n",
       "      <td>0.000000</td>\n",
       "      <td>0.000000</td>\n",
       "      <td>0.000000</td>\n",
       "    </tr>\n",
       "    <tr>\n",
       "      <th>25%</th>\n",
       "      <td>8.245787e+06</td>\n",
       "      <td>0.126100</td>\n",
       "      <td>0.252300</td>\n",
       "      <td>0.297300</td>\n",
       "      <td>80.000000</td>\n",
       "      <td>100.000000</td>\n",
       "    </tr>\n",
       "    <tr>\n",
       "      <th>50%</th>\n",
       "      <td>8.402251e+06</td>\n",
       "      <td>0.207200</td>\n",
       "      <td>0.468500</td>\n",
       "      <td>0.681700</td>\n",
       "      <td>100.000000</td>\n",
       "      <td>100.000000</td>\n",
       "    </tr>\n",
       "    <tr>\n",
       "      <th>75%</th>\n",
       "      <td>8.585908e+06</td>\n",
       "      <td>0.348300</td>\n",
       "      <td>0.816800</td>\n",
       "      <td>1.315300</td>\n",
       "      <td>100.000000</td>\n",
       "      <td>100.000000</td>\n",
       "    </tr>\n",
       "    <tr>\n",
       "      <th>max</th>\n",
       "      <td>8.834549e+06</td>\n",
       "      <td>33.078100</td>\n",
       "      <td>48.801800</td>\n",
       "      <td>54.402400</td>\n",
       "      <td>100.000000</td>\n",
       "      <td>100.000000</td>\n",
       "    </tr>\n",
       "  </tbody>\n",
       "</table>\n",
       "</div>"
      ],
      "text/plain": [
       "                 id    1d_view_cnt   10d_view_cnt   30d_view_cnt  \\\n",
       "count  1.031230e+05  102978.000000  102978.000000  102978.000000   \n",
       "mean   8.418143e+06       0.284620       0.647438       0.997292   \n",
       "std    2.029115e+05       0.303066       0.656563       1.096760   \n",
       "min    4.140807e+06       0.000000       0.000000       0.000000   \n",
       "25%    8.245787e+06       0.126100       0.252300       0.297300   \n",
       "50%    8.402251e+06       0.207200       0.468500       0.681700   \n",
       "75%    8.585908e+06       0.348300       0.816800       1.315300   \n",
       "max    8.834549e+06      33.078100      48.801800      54.402400   \n",
       "\n",
       "       contract_pct_from  contract_pct_to  \n",
       "count      102322.000000    102322.000000  \n",
       "mean           90.635034        96.459872  \n",
       "std            18.170531        12.184531  \n",
       "min             0.000000         0.000000  \n",
       "25%            80.000000       100.000000  \n",
       "50%           100.000000       100.000000  \n",
       "75%           100.000000       100.000000  \n",
       "max           100.000000       100.000000  "
      ]
     },
     "execution_count": 9,
     "metadata": {},
     "output_type": "execute_result"
    }
   ],
   "source": [
    "df.describe()"
   ]
  },
  {
   "cell_type": "markdown",
   "metadata": {},
   "source": [
    "## Missing Values"
   ]
  },
  {
   "cell_type": "code",
   "execution_count": 10,
   "metadata": {},
   "outputs": [
    {
     "data": {
      "text/plain": [
       "id                       0\n",
       "start_dt                 0\n",
       "end_dt                   0\n",
       "1d_view_cnt            145\n",
       "10d_view_cnt           145\n",
       "30d_view_cnt           145\n",
       "package_id               0\n",
       "industry_name         1241\n",
       "job_location            20\n",
       "job_postal_code      50311\n",
       "contract_pct_from      801\n",
       "contract_pct_to        801\n",
       "title                    0\n",
       "dtype: int64"
      ]
     },
     "execution_count": 10,
     "metadata": {},
     "output_type": "execute_result"
    }
   ],
   "source": [
    "df.isnull().sum()"
   ]
  },
  {
   "cell_type": "code",
   "execution_count": 11,
   "metadata": {},
   "outputs": [
    {
     "data": {
      "image/png": "[encoded data removed]",
      "text/plain": [
       "<Figure size 432x288 with 1 Axes>"
      ]
     },
     "metadata": {
      "needs_background": "light"
     },
     "output_type": "display_data"
    }
   ],
   "source": [
    "df.isnull().sum().plot.barh(title='Missing Values')\n",
    "None"
   ]
  },
  {
   "cell_type": "markdown",
   "metadata": {},
   "source": [
    "## Numerical variables"
   ]
  },
  {
   "cell_type": "markdown",
   "metadata": {},
   "source": [
    "### diff_start_end"
   ]
  },
  {
   "cell_type": "code",
   "execution_count": 12,
   "metadata": {},
   "outputs": [],
   "source": [
    "df['diff_start_end'] = df['end_dt'] - df['start_dt']"
   ]
  },
  {
   "cell_type": "code",
   "execution_count": 13,
   "metadata": {},
   "outputs": [],
   "source": [
    "df['diff_start_end_days'] = df['diff_start_end'].dt.days\n",
    "df['diff_start_end_days_str'] = df['diff_start_end'].dt.days.apply(str)"
   ]
  },
  {
   "cell_type": "code",
   "execution_count": 14,
   "metadata": {},
   "outputs": [
    {
     "data": {
      "image/png": "[encoded data removed]",
      "text/plain": [
       "<Figure size 432x288 with 1 Axes>"
      ]
     },
     "metadata": {
      "needs_background": "light"
     },
     "output_type": "display_data"
    }
   ],
   "source": [
    "plt.hist(df['diff_start_end'].dt.days, bins=50)\n",
    "plt.title('duration in days start till end')\n",
    "None"
   ]
  },
  {
   "cell_type": "code",
   "execution_count": 15,
   "metadata": {},
   "outputs": [
    {
     "data": {
      "image/png": "[encoded data removed]",
      "text/plain": [
       "<Figure size 720x720 with 1 Axes>"
      ]
     },
     "metadata": {
      "needs_background": "light"
     },
     "output_type": "display_data"
    }
   ],
   "source": [
    "dfc = value_counts_df(df, 'diff_start_end_days_str').tail(30)\n",
    "fig, ax = plt.subplots(figsize = (10, 10))\n",
    "plt.barh(dfc['diff_start_end_days_str'], dfc['counts'])\n",
    "plt.title('Top days difference start to end')\n",
    "None"
   ]
  },
  {
   "cell_type": "code",
   "execution_count": null,
   "metadata": {},
   "outputs": [],
   "source": []
  },
  {
   "cell_type": "markdown",
   "metadata": {},
   "source": [
    "### 1d_view_cnt"
   ]
  },
  {
   "cell_type": "code",
   "execution_count": 19,
   "metadata": {},
   "outputs": [
    {
     "data": {
      "image/png": "[encoded data removed]",
      "text/plain": [
       "<Figure size 864x288 with 2 Axes>"
      ]
     },
     "metadata": {
      "needs_background": "light"
     },
     "output_type": "display_data"
    }
   ],
   "source": [
    "fig, ax = plt.subplots(figsize = (12, 4))\n",
    "plt.subplot(1, 2, 1)\n",
    "plt.hist(df['1d_view_cnt'].dropna(), bins=50)\n",
    "plt.title('histogram 1day view count')\n",
    "plt.subplot(1, 2, 2)\n",
    "plt.hist(df.loc[df['1d_view_cnt'] < 5]['1d_view_cnt'], bins=50)\n",
    "plt.title('histogram 1day view count (values 0-5)')\n",
    "None"
   ]
  },
  {
   "cell_type": "markdown",
   "metadata": {},
   "source": [
    "### 10d_view_cnt"
   ]
  },
  {
   "cell_type": "code",
   "execution_count": 21,
   "metadata": {},
   "outputs": [
    {
     "data": {
      "image/png": "[encoded data removed]",
      "text/plain": [
       "<Figure size 864x288 with 2 Axes>"
      ]
     },
     "metadata": {
      "needs_background": "light"
     },
     "output_type": "display_data"
    }
   ],
   "source": [
    "fig, ax = plt.subplots(figsize = (12, 4))\n",
    "plt.subplot(1, 2, 1)\n",
    "plt.hist(df['10d_view_cnt'].dropna(), bins=50)\n",
    "plt.title('histogram 10day view count')\n",
    "plt.subplot(1, 2, 2)\n",
    "plt.hist(df.loc[df['10d_view_cnt'] < 5]['10d_view_cnt'], bins=50)\n",
    "plt.title('histogram 10day view count (values 0-5)')\n",
    "None"
   ]
  },
  {
   "cell_type": "markdown",
   "metadata": {},
   "source": [
    "### 30d_view_cnt"
   ]
  },
  {
   "cell_type": "code",
   "execution_count": 23,
   "metadata": {},
   "outputs": [
    {
     "data": {
      "image/png": "[encoded data removed]",
      "text/plain": [
       "<Figure size 864x288 with 2 Axes>"
      ]
     },
     "metadata": {
      "needs_background": "light"
     },
     "output_type": "display_data"
    }
   ],
   "source": [
    "fig, ax = plt.subplots(figsize = (12, 4))\n",
    "plt.subplot(1, 2, 1)\n",
    "plt.hist(df['30d_view_cnt'].dropna(), bins=50)\n",
    "plt.title('histogram 30day view count')\n",
    "plt.subplot(1, 2, 2)\n",
    "plt.hist(df.loc[df['30d_view_cnt'] < 10]['30d_view_cnt'], bins=50)\n",
    "plt.title('histogram 30day view count (values 0-5)')\n",
    "None"
   ]
  },
  {
   "cell_type": "markdown",
   "metadata": {},
   "source": [
    "#### filter for days > 30"
   ]
  },
  {
   "cell_type": "code",
   "execution_count": 25,
   "metadata": {},
   "outputs": [
    {
     "data": {
      "image/png": "[encoded data removed]",
      "text/plain": [
       "<Figure size 864x288 with 2 Axes>"
      ]
     },
     "metadata": {
      "needs_background": "light"
     },
     "output_type": "display_data"
    }
   ],
   "source": [
    "fig, ax = plt.subplots(figsize = (12, 4))\n",
    "plt.subplot(1, 2, 1)\n",
    "plt.hist(df.loc[df['diff_start_end_days'] >= 30 ]['30d_view_cnt'].dropna(), bins=50)\n",
    "plt.title('histogram 30day view count')\n",
    "plt.subplot(1, 2, 2)\n",
    "plt.hist(df.loc[(df['diff_start_end_days'] >= 30) & (df['30d_view_cnt'] < 10)]['30d_view_cnt'], bins=50)\n",
    "plt.title('histogram 30day view count (values 0-5)')\n",
    "None"
   ]
  },
  {
   "cell_type": "code",
   "execution_count": 26,
   "metadata": {},
   "outputs": [
    {
     "data": {
      "text/html": [
       "<div>\n",
       "<style scoped>\n",
       "    .dataframe tbody tr th:only-of-type {\n",
       "        vertical-align: middle;\n",
       "    }\n",
       "\n",
       "    .dataframe tbody tr th {\n",
       "        vertical-align: top;\n",
       "    }\n",
       "\n",
       "    .dataframe thead th {\n",
       "        text-align: right;\n",
       "    }\n",
       "</style>\n",
       "<table border=\"1\" class=\"dataframe\">\n",
       "  <thead>\n",
       "    <tr style=\"text-align: right;\">\n",
       "      <th></th>\n",
       "      <th>1d_view_cnt</th>\n",
       "      <th>10d_view_cnt</th>\n",
       "      <th>30d_view_cnt</th>\n",
       "    </tr>\n",
       "  </thead>\n",
       "  <tbody>\n",
       "    <tr>\n",
       "      <th>0</th>\n",
       "      <td>0.2372</td>\n",
       "      <td>0.4565</td>\n",
       "      <td>0.7327</td>\n",
       "    </tr>\n",
       "    <tr>\n",
       "      <th>1</th>\n",
       "      <td>0.2883</td>\n",
       "      <td>0.5826</td>\n",
       "      <td>1.0991</td>\n",
       "    </tr>\n",
       "    <tr>\n",
       "      <th>2</th>\n",
       "      <td>0.1982</td>\n",
       "      <td>0.8468</td>\n",
       "      <td>1.1532</td>\n",
       "    </tr>\n",
       "    <tr>\n",
       "      <th>3</th>\n",
       "      <td>0.2883</td>\n",
       "      <td>0.7177</td>\n",
       "      <td>1.4835</td>\n",
       "    </tr>\n",
       "    <tr>\n",
       "      <th>5</th>\n",
       "      <td>0.6456</td>\n",
       "      <td>1.3604</td>\n",
       "      <td>2.4144</td>\n",
       "    </tr>\n",
       "  </tbody>\n",
       "</table>\n",
       "</div>"
      ],
      "text/plain": [
       "   1d_view_cnt  10d_view_cnt  30d_view_cnt\n",
       "0       0.2372        0.4565        0.7327\n",
       "1       0.2883        0.5826        1.0991\n",
       "2       0.1982        0.8468        1.1532\n",
       "3       0.2883        0.7177        1.4835\n",
       "5       0.6456        1.3604        2.4144"
      ]
     },
     "execution_count": 26,
     "metadata": {},
     "output_type": "execute_result"
    }
   ],
   "source": [
    "df.loc[(df['diff_start_end_days'] >= 30) & (df['30d_view_cnt'] < 20)].head().loc[:,['1d_view_cnt', '10d_view_cnt', '30d_view_cnt']]"
   ]
  },
  {
   "cell_type": "markdown",
   "metadata": {},
   "source": [
    "### contract_pct_from and contract_pct_to"
   ]
  },
  {
   "cell_type": "code",
   "execution_count": 29,
   "metadata": {},
   "outputs": [
    {
     "data": {
      "image/png": "[encoded data removed]",
      "text/plain": [
       "<Figure size 864x288 with 2 Axes>"
      ]
     },
     "metadata": {
      "needs_background": "light"
     },
     "output_type": "display_data"
    }
   ],
   "source": [
    "fig, ax = plt.subplots(figsize = (12, 4))\n",
    "plt.subplot(1, 2, 1)\n",
    "plt.hist(df['contract_pct_from'].dropna(), bins=50)\n",
    "plt.title('histogram contract_pct_from')\n",
    "plt.subplot(1, 2, 2)\n",
    "plt.hist(df['contract_pct_to'].dropna(), bins=50)\n",
    "plt.title('histogram contract_pct_to')\n",
    "None"
   ]
  },
  {
   "cell_type": "markdown",
   "metadata": {},
   "source": [
    "## Categorical variables"
   ]
  },
  {
   "cell_type": "markdown",
   "metadata": {},
   "source": [
    "### id"
   ]
  },
  {
   "cell_type": "code",
   "execution_count": 30,
   "metadata": {},
   "outputs": [
    {
     "data": {
      "text/plain": [
       "((102723,), (103123, 16))"
      ]
     },
     "execution_count": 30,
     "metadata": {},
     "output_type": "execute_result"
    }
   ],
   "source": [
    "df['id'].unique().shape, df.shape"
   ]
  },
  {
   "cell_type": "code",
   "execution_count": 31,
   "metadata": {},
   "outputs": [
    {
     "data": {
      "text/plain": [
       "400"
      ]
     },
     "execution_count": 31,
     "metadata": {},
     "output_type": "execute_result"
    }
   ],
   "source": [
    "df.shape[0] - df['id'].unique().shape[0]"
   ]
  },
  {
   "cell_type": "markdown",
   "metadata": {},
   "source": [
    "400 non-unique ids"
   ]
  },
  {
   "cell_type": "markdown",
   "metadata": {},
   "source": [
    "### contract_pct_type"
   ]
  },
  {
   "cell_type": "markdown",
   "metadata": {},
   "source": [
    "combining contract_pct_from and contract_pct_to"
   ]
  },
  {
   "cell_type": "code",
   "execution_count": 32,
   "metadata": {},
   "outputs": [],
   "source": [
    "df['contract_pct_type'] = [str(x) + '_' + str(y) for (x, y) in zip(df['contract_pct_from'], df['contract_pct_to']) ]"
   ]
  },
  {
   "cell_type": "code",
   "execution_count": 33,
   "metadata": {},
   "outputs": [
    {
     "data": {
      "text/plain": [
       "array(['100.0_100.0', '100.0_100.0', '100.0_100.0', '100.0_100.0',\n",
       "       '100.0_100.0'], dtype=object)"
      ]
     },
     "execution_count": 33,
     "metadata": {},
     "output_type": "execute_result"
    }
   ],
   "source": [
    "df['contract_pct_type'].values[:5]"
   ]
  },
  {
   "cell_type": "code",
   "execution_count": 34,
   "metadata": {},
   "outputs": [
    {
     "data": {
      "text/plain": [
       "100.0_100.0    73723\n",
       "80.0_100.0     13908\n",
       "80.0_80.0       1790\n",
       "60.0_100.0      1773\n",
       "50.0_100.0      1123\n",
       "60.0_80.0       1079\n",
       "50.0_50.0       1053\n",
       "60.0_60.0        897\n",
       "nan_nan          801\n",
       "40.0_40.0        507\n",
       "70.0_100.0       457\n",
       "90.0_100.0       444\n",
       "40.0_60.0        441\n",
       "50.0_60.0        432\n",
       "20.0_100.0       373\n",
       "50.0_80.0        352\n",
       "40.0_100.0       317\n",
       "70.0_70.0        247\n",
       "40.0_50.0        242\n",
       "20.0_50.0        227\n",
       "20.0_40.0        217\n",
       "50.0_70.0        184\n",
       "40.0_80.0        179\n",
       "70.0_80.0        170\n",
       "20.0_20.0        160\n",
       "30.0_30.0        139\n",
       "90.0_90.0        138\n",
       "80.0_90.0        131\n",
       "60.0_70.0        113\n",
       "30.0_50.0        106\n",
       "               ...  \n",
       "60.0_67.0          1\n",
       "45.0_55.0          1\n",
       "40.0_55.0          1\n",
       "35.0_45.0          1\n",
       "85.0_90.0          1\n",
       "25.0_50.0          1\n",
       "66.0_100.0         1\n",
       "46.0_47.0          1\n",
       "63.0_63.0          1\n",
       "29.0_48.0          1\n",
       "50.0_65.0          1\n",
       "35.0_80.0          1\n",
       "80.0_85.0          1\n",
       "10.0_15.0          1\n",
       "30.0_35.0          1\n",
       "7.0_7.0            1\n",
       "40.0_85.0          1\n",
       "0.0_0.0            1\n",
       "34.0_34.0          1\n",
       "1.0_10.0           1\n",
       "35.0_40.0          1\n",
       "9.0_90.0           1\n",
       "52.0_100.0         1\n",
       "1.0_6.0            1\n",
       "1.0_45.0           1\n",
       "55.0_100.0         1\n",
       "99.0_100.0         1\n",
       "33.0_33.0          1\n",
       "100.0_80.0         1\n",
       "100.0_90.0         1\n",
       "Name: contract_pct_type, Length: 139, dtype: int64"
      ]
     },
     "execution_count": 34,
     "metadata": {},
     "output_type": "execute_result"
    }
   ],
   "source": [
    "df['contract_pct_type'].value_counts()"
   ]
  },
  {
   "cell_type": "code",
   "execution_count": null,
   "metadata": {},
   "outputs": [],
   "source": []
  },
  {
   "cell_type": "markdown",
   "metadata": {},
   "source": [
    "### contract_pct_type_is_range"
   ]
  },
  {
   "cell_type": "code",
   "execution_count": 35,
   "metadata": {},
   "outputs": [],
   "source": [
    "df['contract_pct_type_is_range'] = np.where(df['contract_pct_from'] == df['contract_pct_to'], 0, 1)"
   ]
  },
  {
   "cell_type": "code",
   "execution_count": 36,
   "metadata": {},
   "outputs": [
    {
     "data": {
      "image/png": "[encoded data removed]",
      "text/plain": [
       "<Figure size 432x288 with 1 Axes>"
      ]
     },
     "metadata": {
      "needs_background": "light"
     },
     "output_type": "display_data"
    }
   ],
   "source": [
    "df['contract_pct_type_is_range'].astype('category').value_counts().plot.barh(title = 'Is contract percentage type a range? \\n 1 means yes, e.g. 80-100%')\n",
    "None"
   ]
  },
  {
   "cell_type": "markdown",
   "metadata": {},
   "source": [
    "### package_id"
   ]
  },
  {
   "cell_type": "code",
   "execution_count": 37,
   "metadata": {},
   "outputs": [
    {
     "data": {
      "image/png": "[encoded data removed]",
      "text/plain": [
       "<Figure size 1080x360 with 2 Axes>"
      ]
     },
     "metadata": {
      "needs_background": "light"
     },
     "output_type": "display_data"
    }
   ],
   "source": [
    "dfc = value_counts_df(df, 'package_id')\n",
    "fig, ax = plt.subplots(figsize = (15, 5))\n",
    "plt.subplot(1, 2, 1)\n",
    "plt.barh(dfc['package_id'], dfc['counts'])\n",
    "plt.title('package_id counts\\nordered by counts')\n",
    "plt.subplot(1, 2, 2)\n",
    "dfc = value_counts_df(df, 'package_id', 'package_id', False)\n",
    "plt.barh(dfc['package_id'], dfc['counts'])\n",
    "plt.title('package_id counts\\nordered by name')\n",
    "None"
   ]
  },
  {
   "cell_type": "markdown",
   "metadata": {},
   "source": [
    "### industry_name"
   ]
  },
  {
   "cell_type": "code",
   "execution_count": 38,
   "metadata": {},
   "outputs": [
    {
     "data": {
      "image/png": "[encoded data removed]",
      "text/plain": [
       "<Figure size 720x720 with 1 Axes>"
      ]
     },
     "metadata": {
      "needs_background": "light"
     },
     "output_type": "display_data"
    }
   ],
   "source": [
    "dfc = value_counts_df(df, 'industry_name')\n",
    "fig, ax = plt.subplots(figsize = (10, 10))\n",
    "plt.barh(dfc['industry_name'], dfc['counts'])\n",
    "plt.title('Industries')\n",
    "None"
   ]
  },
  {
   "cell_type": "markdown",
   "metadata": {},
   "source": [
    "### job_location"
   ]
  },
  {
   "cell_type": "code",
   "execution_count": 39,
   "metadata": {},
   "outputs": [
    {
     "data": {
      "image/png": "[encoded data removed]",
      "text/plain": [
       "<Figure size 720x720 with 1 Axes>"
      ]
     },
     "metadata": {
      "needs_background": "light"
     },
     "output_type": "display_data"
    }
   ],
   "source": [
    "dfc = value_counts_df(df, 'job_location').tail(20)\n",
    "fig, ax = plt.subplots(figsize = (10, 10))\n",
    "plt.barh(dfc['job_location'], dfc['counts'])\n",
    "plt.title('Top 20 job locations')\n",
    "None"
   ]
  },
  {
   "cell_type": "markdown",
   "metadata": {},
   "source": [
    "### job_postal_code "
   ]
  },
  {
   "cell_type": "code",
   "execution_count": 41,
   "metadata": {},
   "outputs": [
    {
     "data": {
      "text/plain": [
       "1573"
      ]
     },
     "execution_count": 41,
     "metadata": {},
     "output_type": "execute_result"
    }
   ],
   "source": [
    "value_counts_df(df, 'job_postal_code').shape[0]"
   ]
  },
  {
   "cell_type": "code",
   "execution_count": 42,
   "metadata": {},
   "outputs": [
    {
     "data": {
      "image/png": "[encoded data removed]",
      "text/plain": [
       "<Figure size 720x720 with 1 Axes>"
      ]
     },
     "metadata": {
      "needs_background": "light"
     },
     "output_type": "display_data"
    }
   ],
   "source": [
    "dfc = value_counts_df(df, 'job_postal_code').tail(20)\n",
    "fig, ax = plt.subplots(figsize = (10, 10))\n",
    "plt.barh(dfc['job_postal_code'], dfc['counts'])\n",
    "plt.title('Top 20 postal code')\n",
    "None"
   ]
  }
 ],
 "metadata": {
  "kernelspec": {
   "display_name": "Python 3",
   "language": "python",
   "name": "python3"
  },
  "language_info": {
   "codemirror_mode": {
    "name": "ipython",
    "version": 3
   },
   "file_extension": ".py",
   "mimetype": "text/x-python",
   "name": "python",
   "nbconvert_exporter": "python",
   "pygments_lexer": "ipython3",
   "version": "3.6.8"
  }
 },
 "nbformat": 4,
 "nbformat_minor": 2
}
